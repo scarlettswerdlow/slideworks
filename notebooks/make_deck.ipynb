{
 "cells": [
  {
   "cell_type": "code",
   "execution_count": 28,
   "metadata": {},
   "outputs": [],
   "source": [
    "import pickle\n",
    "from pptx import Presentation\n",
    "from pptx.util import Inches\n",
    "from pptx.enum.shapes import MSO_SHAPE\n"
   ]
  },
  {
   "cell_type": "code",
   "execution_count": 4,
   "metadata": {},
   "outputs": [],
   "source": [
    "with open('../results/20220831105551_submarines for cats.pickle', 'rb') as handle:\n",
    "    pitch_text = pickle.load(handle)"
   ]
  },
  {
   "cell_type": "code",
   "execution_count": 23,
   "metadata": {},
   "outputs": [
    {
     "name": "stdout",
     "output_type": "stream",
     "text": [
      "{'product_description': 'submarines for cats', 'timestamp': '20220831105551', 'results': {'company_name': 'Submarine Cats', 'company_tagline': 'This company is all about going deep.', 'problem_statement': '- They are too small for most cats\\n- They are made with harmful materials\\n- They are not comfortable\\n- They are not very durable\\n- They do not provide enough stimulation', 'solution_description': 'Submarine Cats provides underwater dwellings for cats, complete with airtight hatches, a water filtration and oxygenation system, and plenty of space to play and lounge.', 'market_size': 'The submarines for cats industry is currently very small, with only a handful of manufacturers producing products for sale. However, the industry has seen some recent growth, with a number of new companies entering the market and new products being developed. The current market size is difficult to estimate, but it is likely to be in', 'business_model': 'There are a few ways that Submarine Cats could generate revenue and make a profit doing submarines for cats. One way would be to sell the submarines directly to cat owners. Another way would be to sell franchises to others who want to start their own business selling submarine rides to cats. Additionally, Submarine Cats could', 'competitors': '1. Cat-o-mat\\n2. Litter-Robot\\n3. CatGenie\\n4. Modkat\\n5. PetSafe'}}\n"
     ]
    }
   ],
   "source": [
    "print(pitch_text)"
   ]
  },
  {
   "cell_type": "code",
   "execution_count": 14,
   "metadata": {},
   "outputs": [],
   "source": [
    "SLIDE_LAYOUT_TITLE = 0\n",
    "SLIDE_LAYOUT_TITLE_CONTENT = 1\n",
    "SLIDE_LAYOUT_SECTION_HEADER = 2\n",
    "SLIDE_LAYOUT_TWO_CONTENT = 3\n",
    "SLIDE_LAYOUT_COMPARISON = 4\n",
    "SLIDE_LAYOUT_TITLE_ONLY = 5\n",
    "SLIDE_LAYOUT_BLANK = 6\n",
    "SLIDE_LAYOUT_CONTENT_CAPTION = 7\n",
    "SLIDE_LAYOUT_PICTURE_CAPTION = 8"
   ]
  },
  {
   "cell_type": "code",
   "execution_count": 16,
   "metadata": {},
   "outputs": [],
   "source": [
    "prs = Presentation()"
   ]
  },
  {
   "cell_type": "code",
   "execution_count": 17,
   "metadata": {},
   "outputs": [],
   "source": [
    "slide = prs.slides.add_slide(prs.slide_layouts[SLIDE_LAYOUT_TITLE]) # adding a slide\n",
    "slide.placeholders[0].text = pitch_text['results']['company_name']\n",
    "slide.placeholders[1].text = pitch_text['results']['company_tagline']"
   ]
  },
  {
   "cell_type": "code",
   "execution_count": 19,
   "metadata": {},
   "outputs": [],
   "source": [
    "slide = prs.slides.add_slide(prs.slide_layouts[SLIDE_LAYOUT_TITLE_CONTENT])\n",
    "slide.placeholders[0].text = \"The Problem Today\"\n",
    "slide.placeholders[1].text = pitch_text['results']['problem_statement']"
   ]
  },
  {
   "cell_type": "code",
   "execution_count": 24,
   "metadata": {},
   "outputs": [],
   "source": [
    "slide = prs.slides.add_slide(prs.slide_layouts[SLIDE_LAYOUT_TITLE_CONTENT])\n",
    "slide.placeholders[0].text = \"The Solution\"\n",
    "slide.placeholders[1].text = pitch_text['results']['solution_description']"
   ]
  },
  {
   "cell_type": "code",
   "execution_count": 26,
   "metadata": {},
   "outputs": [],
   "source": [
    "slide = prs.slides.add_slide(prs.slide_layouts[SLIDE_LAYOUT_TWO_CONTENT])\n"
   ]
  },
  {
   "cell_type": "code",
   "execution_count": 27,
   "metadata": {},
   "outputs": [
    {
     "name": "stdout",
     "output_type": "stream",
     "text": [
      "0 Title 1\n",
      "1 Content Placeholder 2\n",
      "2 Content Placeholder 3\n"
     ]
    }
   ],
   "source": [
    "for shape in slide.placeholders:\n",
    "    print('%d %s' % (shape.placeholder_format.idx, shape.name))"
   ]
  },
  {
   "cell_type": "code",
   "execution_count": 32,
   "metadata": {},
   "outputs": [],
   "source": [
    "slide.placeholders[0].text = \"Market Size\"\n",
    "slide.placeholders[1].text = pitch_text['results']['market_size']\n",
    "slide.placeholders[2].text = \"Market Size Image Goes Here\"\n",
    "shape = slide.shapes.add_shape(MSO_SHAPE.OVAL, Inches(4), Inches(2), Inches(2), Inches(2))"
   ]
  },
  {
   "cell_type": "code",
   "execution_count": 34,
   "metadata": {},
   "outputs": [],
   "source": [
    "prs.save(\"../results/20220831105551_submarines for cats.pptx\") # saving file"
   ]
  },
  {
   "cell_type": "code",
   "execution_count": null,
   "metadata": {},
   "outputs": [],
   "source": []
  }
 ],
 "metadata": {
  "interpreter": {
   "hash": "5fc345fc9c3a47c459cb47eca3b76169282eb97ebbecae903d2a9461a7c35456"
  },
  "kernelspec": {
   "display_name": "Python 3.8.8 64-bit ('base': conda)",
   "language": "python",
   "name": "python3"
  },
  "language_info": {
   "codemirror_mode": {
    "name": "ipython",
    "version": 3
   },
   "file_extension": ".py",
   "mimetype": "text/x-python",
   "name": "python",
   "nbconvert_exporter": "python",
   "pygments_lexer": "ipython3",
   "version": "3.10.1"
  },
  "orig_nbformat": 4
 },
 "nbformat": 4,
 "nbformat_minor": 2
}
