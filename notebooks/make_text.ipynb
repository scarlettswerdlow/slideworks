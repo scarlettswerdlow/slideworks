{
 "cells": [
  {
   "cell_type": "code",
   "execution_count": 7,
   "metadata": {},
   "outputs": [
    {
     "name": "stdout",
     "output_type": "stream",
     "text": [
      "Collecting openai\n",
      "  Downloading openai-0.23.0.tar.gz (43 kB)\n",
      "\u001b[K     |████████████████████████████████| 43 kB 1.8 MB/s eta 0:00:01\n",
      "\u001b[?25h  Installing build dependencies ... \u001b[?25ldone\n",
      "\u001b[?25h  Getting requirements to build wheel ... \u001b[?25ldone\n",
      "\u001b[?25h    Preparing wheel metadata ... \u001b[?25ldone\n",
      "\u001b[?25hRequirement already satisfied: openpyxl>=3.0.7 in /Users/scarlettswerdlow/opt/anaconda3/lib/python3.8/site-packages (from openai) (3.0.7)\n",
      "Requirement already satisfied: requests>=2.20 in /Users/scarlettswerdlow/opt/anaconda3/lib/python3.8/site-packages (from openai) (2.25.1)\n",
      "Requirement already satisfied: numpy in /Users/scarlettswerdlow/opt/anaconda3/lib/python3.8/site-packages (from openai) (1.20.1)\n",
      "Requirement already satisfied: tqdm in /Users/scarlettswerdlow/opt/anaconda3/lib/python3.8/site-packages (from openai) (4.59.0)\n",
      "Collecting pandas-stubs>=1.1.0.11\n",
      "  Downloading pandas_stubs-1.4.3.220829-py3-none-any.whl (139 kB)\n",
      "\u001b[K     |████████████████████████████████| 139 kB 5.7 MB/s eta 0:00:01\n",
      "\u001b[?25hRequirement already satisfied: pandas>=1.2.3 in /Users/scarlettswerdlow/opt/anaconda3/lib/python3.8/site-packages (from openai) (1.2.4)\n",
      "Requirement already satisfied: typing-extensions in /Users/scarlettswerdlow/opt/anaconda3/lib/python3.8/site-packages (from openai) (3.7.4.3)\n",
      "Requirement already satisfied: et-xmlfile in /Users/scarlettswerdlow/opt/anaconda3/lib/python3.8/site-packages (from openpyxl>=3.0.7->openai) (1.0.1)\n",
      "Requirement already satisfied: python-dateutil>=2.7.3 in /Users/scarlettswerdlow/opt/anaconda3/lib/python3.8/site-packages (from pandas>=1.2.3->openai) (2.8.1)\n",
      "Requirement already satisfied: pytz>=2017.3 in /Users/scarlettswerdlow/opt/anaconda3/lib/python3.8/site-packages (from pandas>=1.2.3->openai) (2021.1)\n",
      "Collecting types-pytz>=2022.1.1\n",
      "  Downloading types_pytz-2022.2.1.0-py3-none-any.whl (4.5 kB)\n",
      "Requirement already satisfied: six>=1.5 in /Users/scarlettswerdlow/opt/anaconda3/lib/python3.8/site-packages (from python-dateutil>=2.7.3->pandas>=1.2.3->openai) (1.15.0)\n",
      "Requirement already satisfied: idna<3,>=2.5 in /Users/scarlettswerdlow/opt/anaconda3/lib/python3.8/site-packages (from requests>=2.20->openai) (2.10)\n",
      "Requirement already satisfied: chardet<5,>=3.0.2 in /Users/scarlettswerdlow/opt/anaconda3/lib/python3.8/site-packages (from requests>=2.20->openai) (4.0.0)\n",
      "Requirement already satisfied: certifi>=2017.4.17 in /Users/scarlettswerdlow/opt/anaconda3/lib/python3.8/site-packages (from requests>=2.20->openai) (2020.12.5)\n",
      "Requirement already satisfied: urllib3<1.27,>=1.21.1 in /Users/scarlettswerdlow/opt/anaconda3/lib/python3.8/site-packages (from requests>=2.20->openai) (1.26.4)\n",
      "Building wheels for collected packages: openai\n",
      "  Building wheel for openai (PEP 517) ... \u001b[?25ldone\n",
      "\u001b[?25h  Created wheel for openai: filename=openai-0.23.0-py3-none-any.whl size=54450 sha256=94fd1d70d3e82567b307c69b46bd818f95d96f7d23028bc978510056c99b0f57\n",
      "  Stored in directory: /Users/scarlettswerdlow/Library/Caches/pip/wheels/80/3d/df/3191cdb7a0394b8fdee4f2f8212e08475bb618d7fd845f1951\n",
      "Successfully built openai\n",
      "Installing collected packages: types-pytz, pandas-stubs, openai\n",
      "Successfully installed openai-0.23.0 pandas-stubs-1.4.3.220829 types-pytz-2022.2.1.0\n",
      "Note: you may need to restart the kernel to use updated packages.\n"
     ]
    }
   ],
   "source": [
    "pip install openai"
   ]
  },
  {
   "cell_type": "code",
   "execution_count": 5,
   "metadata": {},
   "outputs": [],
   "source": [
    "import yaml\n",
    "import openai\n",
    "from datetime import datetime"
   ]
  },
  {
   "cell_type": "code",
   "execution_count": 9,
   "metadata": {},
   "outputs": [],
   "source": [
    "def read_yaml(file_path):\n",
    "\n",
    "    with open(file_path, \"r\") as f:\n",
    "        return yaml.safe_load(f)"
   ]
  },
  {
   "cell_type": "code",
   "execution_count": 10,
   "metadata": {},
   "outputs": [],
   "source": [
    "config = read_yaml('../src/config_mine.yaml')"
   ]
  },
  {
   "cell_type": "code",
   "execution_count": 20,
   "metadata": {},
   "outputs": [],
   "source": [
    "openai.api_key = config['OPENAI']['SECRET_KEY']"
   ]
  },
  {
   "cell_type": "code",
   "execution_count": 42,
   "metadata": {},
   "outputs": [],
   "source": [
    "def get_response(prompt):\n",
    "\n",
    "    response = openai.Completion.create(\n",
    "        model=\"text-davinci-002\",\n",
    "        prompt=prompt,\n",
    "        temperature=1,\n",
    "        max_tokens=64,\n",
    "        top_p=1,\n",
    "        frequency_penalty=0,\n",
    "        presence_penalty=0\n",
    "    ) \n",
    "    \n",
    "    rv = response['choices'][0]['text'].strip()\n",
    "\n",
    "    return rv"
   ]
  },
  {
   "cell_type": "code",
   "execution_count": 63,
   "metadata": {},
   "outputs": [],
   "source": [
    "def get_company_name(product_description):\n",
    "\n",
    "  prompt = 'Write a name for a startup company that is the Uber of ' + product_description + '.'\n",
    "\n",
    "  company_name = get_response(prompt)\n",
    "\n",
    "  return company_name"
   ]
  },
  {
   "cell_type": "code",
   "execution_count": 64,
   "metadata": {},
   "outputs": [],
   "source": [
    "def get_company_tagline(company_name):\n",
    "\n",
    "    prompt = 'Write a tagline for a company named ' + company_name + '.'\n",
    "\n",
    "    company_tagline = get_response(prompt)\n",
    "    \n",
    "    return company_tagline "
   ]
  },
  {
   "cell_type": "code",
   "execution_count": 65,
   "metadata": {},
   "outputs": [],
   "source": [
    "def get_problem_statement(product_description):\n",
    "\n",
    "    prompt = 'Describe in bullet points of 5-10 words the problem with ' + product_description + ' today'\n",
    "\n",
    "    problem_statement = get_response(prompt)\n",
    "\n",
    "    return problem_statement"
   ]
  },
  {
   "cell_type": "code",
   "execution_count": 66,
   "metadata": {},
   "outputs": [],
   "source": [
    "def get_solution_description(company_name, product_description):\n",
    "\n",
    "    prompt = 'In one sentence, how does the company ' + company_name + ' solve the problem of ' + product_description + '?'\n",
    "\n",
    "    solution_description = get_response(prompt)\n",
    "\n",
    "    return solution_description"
   ]
  },
  {
   "cell_type": "code",
   "execution_count": 73,
   "metadata": {},
   "outputs": [],
   "source": [
    "def get_market_size(product_description):\n",
    "\n",
    "    prompt = 'What is the market size today for the ' + product_description + ' industry?'\n",
    "\n",
    "    market_size = get_response(prompt)\n",
    "\n",
    "    return market_size"
   ]
  },
  {
   "cell_type": "code",
   "execution_count": 70,
   "metadata": {},
   "outputs": [],
   "source": [
    "def get_business_model(company_name, product_description):\n",
    "\n",
    "    prompt = 'Describe how ' + company_name + ' will generate revenue and make a profit doing ' + product_description + '.'\n",
    "\n",
    "    business_model = get_response(prompt)\n",
    "\n",
    "    return business_model"
   ]
  },
  {
   "cell_type": "code",
   "execution_count": 79,
   "metadata": {},
   "outputs": [],
   "source": [
    "def get_competitors(company_name, product_description):\n",
    "\n",
    "    prompt = 'List the top 5 competitors to ' + company_name +  'in the ' + product_description + ' industry.'\n",
    "\n",
    "    competitors = get_response(prompt)\n",
    "\n",
    "    return competitors"
   ]
  },
  {
   "cell_type": "code",
   "execution_count": null,
   "metadata": {},
   "outputs": [],
   "source": [
    "def get_text(product_description):\n",
    "    \n",
    "    company_name = get_company_name(product_description)\n",
    "    company_tagline = get_company_tagline(company_name)\n",
    "    problem_statement = get_problem_statement(product_description)\n",
    "    solution_description = get_solution_description(company_name, product_description)\n",
    "    market_size = get_market_size(product_description)\n",
    "    business_model = get_business_model(company_name, product_description)\n",
    "    competitors = get_competitors(company_name, product_description)\n",
    "\n",
    "    rv = {\n",
    "        'product_description': product_description,\n",
    "        'timestamp': datetime.now().time(),\n",
    "        'results': {\n",
    "            'company_name': company_name,\n",
    "            'company_tagline': company_tagline,\n",
    "            'problem_statement': problem_statement,\n",
    "            'solution_description': solution_description,\n",
    "            'market_size': market_size,\n",
    "            'business_model': business_model,\n",
    "            'competitors': competitors\n",
    "        }\n",
    "    }\n",
    "\n",
    "    return rv"
   ]
  },
  {
   "cell_type": "code",
   "execution_count": 82,
   "metadata": {},
   "outputs": [
    {
     "name": "stdout",
     "output_type": "stream",
     "text": [
      "Instant Command\n",
      "Make your voice heard.\n",
      "\n",
      "\n",
      "-------------------------------The Problem Today--------------------------------\n",
      "- Joint all-domain command and control is too reliant on information technology\n",
      "- There is a lack of standardization across the different domains\n",
      "- The decision-making process is slow and cumbersome\n",
      "- There is a lack of situational awareness\n",
      "- Joint all-domain command and control is not responsive enough to rapidly\n",
      "\n",
      "\n",
      "----------------------------------The Solution----------------------------------\n",
      "It provides a common platform that integrates multiple data types and sources of information in order to allow for more informed and timely decision making.\n",
      "\n",
      "\n",
      "----------------------------------Market Size-----------------------------------\n",
      "The global joint all-domain command and control market is expected to reach $9.84 billion by 2025 from $6.21 billion in 2020, at a CAGR of 8.9%.\n",
      "\n",
      "\n",
      "---------------------------------Business Model---------------------------------\n",
      "Instant Command will generate revenue through a subscription model. Users will be charged a monthly fee for access to the platform. Instant Command will also generate revenue through the sale of data products and services. The company will make a profit by providing a high-quality, easy-to-use platform that helps users improve their\n",
      "\n",
      "\n",
      "----------------------------------Competitors-----------------------------------\n",
      "1. Northrop Grumman\n",
      "2. Lockheed Martin\n",
      "3. BlackBerry\n",
      "4. Cisco Systems\n",
      "5. Nokia\n"
     ]
    }
   ],
   "source": [
    "PRODUCT = 'joint all-domain command and control'\n",
    "\n",
    "company_name = get_company_name(PRODUCT)\n",
    "company_tagline = get_company_tagline(company_name)\n",
    "problem_statement = get_problem_statement(PRODUCT)\n",
    "solution_description = get_solution_description(company_name, PRODUCT)\n",
    "market_size = get_market_size(PRODUCT)\n",
    "business_model = get_business_model(company_name, PRODUCT)\n",
    "competitors = get_competitors(company_name, PRODUCT)\n",
    "\n",
    "print(company_name)\n",
    "print(company_tagline)\n",
    "print('\\n')\n",
    "print('The Problem Today'.center(80, '-'))\n",
    "print(problem_statement)\n",
    "print('\\n')\n",
    "print('The Solution'.center(80, '-'))\n",
    "print(solution_description)\n",
    "print('\\n')\n",
    "print('Market Size'.center(80, '-'))\n",
    "print(market_size)\n",
    "print('\\n')\n",
    "print('Business Model'.center(80, '-'))\n",
    "print(business_model)\n",
    "print('\\n')\n",
    "print('Competitors'.center(80, '-'))\n",
    "print(competitors)"
   ]
  },
  {
   "cell_type": "code",
   "execution_count": 84,
   "metadata": {},
   "outputs": [
    {
     "name": "stdout",
     "output_type": "stream",
     "text": [
      "SubmarinO\n",
      "Looking for a delicious way to dive into the ocean? SubmarinO has got you covered!\n",
      "\n",
      "\n",
      "-------------------------------The Problem Today--------------------------------\n",
      "- Their are no submarines designed specifically for cats\n",
      "- Most submarines are not large enough for cats\n",
      "- Cats may be afraid of the water\n",
      "- Submarines are expensive\n",
      "- Submarines require maintenance\n",
      "\n",
      "\n",
      "----------------------------------The Solution----------------------------------\n",
      "SubmarinO is a company that creates submarines for cats to help them safely explore the underwater world.\n",
      "\n",
      "\n",
      "----------------------------------Market Size-----------------------------------\n",
      "There is no estimated market size for the submarines for cats industry because there is no such industry.\n",
      "\n",
      "\n",
      "---------------------------------Business Model---------------------------------\n",
      "SubmarinO will generate revenue by selling submarines for cats. The company will make a profit by selling the submarines at a price that is higher than the cost of making them.\n",
      "\n",
      "\n",
      "----------------------------------Competitors-----------------------------------\n",
      "1. Feline Sea Ventures\n",
      "2. The Catboat\n",
      "3. Alley Cat Yachts\n",
      "4. Pussycat Cruises\n",
      "5. Catamarans for Cats\n"
     ]
    }
   ],
   "source": [
    "PRODUCT = 'submarines for cats'\n",
    "\n",
    "company_name = get_company_name(PRODUCT)\n",
    "company_tagline = get_company_tagline(company_name)\n",
    "problem_statement = get_problem_statement(PRODUCT)\n",
    "solution_description = get_solution_description(company_name, PRODUCT)\n",
    "market_size = get_market_size(PRODUCT)\n",
    "business_model = get_business_model(company_name, PRODUCT)\n",
    "competitors = get_competitors(company_name, PRODUCT)\n",
    "\n",
    "print(company_name)\n",
    "print(company_tagline)\n",
    "print('\\n')\n",
    "print('The Problem Today'.center(80, '-'))\n",
    "print(problem_statement)\n",
    "print('\\n')\n",
    "print('The Solution'.center(80, '-'))\n",
    "print(solution_description)\n",
    "print('\\n')\n",
    "print('Market Size'.center(80, '-'))\n",
    "print(market_size)\n",
    "print('\\n')\n",
    "print('Business Model'.center(80, '-'))\n",
    "print(business_model)\n",
    "print('\\n')\n",
    "print('Competitors'.center(80, '-'))\n",
    "print(competitors)"
   ]
  },
  {
   "cell_type": "code",
   "execution_count": null,
   "metadata": {},
   "outputs": [],
   "source": []
  }
 ],
 "metadata": {
  "interpreter": {
   "hash": "5fc345fc9c3a47c459cb47eca3b76169282eb97ebbecae903d2a9461a7c35456"
  },
  "kernelspec": {
   "display_name": "Python 3.8.8 64-bit ('base': conda)",
   "language": "python",
   "name": "python3"
  },
  "language_info": {
   "codemirror_mode": {
    "name": "ipython",
    "version": 3
   },
   "file_extension": ".py",
   "mimetype": "text/x-python",
   "name": "python",
   "nbconvert_exporter": "python",
   "pygments_lexer": "ipython3",
   "version": "3.10.1"
  },
  "orig_nbformat": 4
 },
 "nbformat": 4,
 "nbformat_minor": 2
}
